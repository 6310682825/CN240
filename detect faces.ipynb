{
 "cells": [
  {
   "cell_type": "code",
   "execution_count": 9,
   "id": "9dba2c52",
   "metadata": {},
   "outputs": [],
   "source": [
    "import cv2\n",
    "import os\n",
    "from imutils import paths"
   ]
  },
  {
   "cell_type": "code",
   "execution_count": 10,
   "id": "e68a20e8",
   "metadata": {},
   "outputs": [],
   "source": [
    "def catch_face(image):\n",
    "    #อ่านไฟล์สำหรับ classification\n",
    "    face_cadecade = cv2.CascadeClassifier(\"project240/emotion_detect/haarcascade_eye.xml\")\n",
    "    #จำแนกใบหน้า scaleFactor's defult = 1.1 , minNeigher's defult = 3 \n",
    "    face_detect = face_cadecade.detectMultiScale(image)\n",
    "    return face_detect"
   ]
  },
  {
   "cell_type": "code",
   "execution_count": 11,
   "id": "6e1ffc25",
   "metadata": {},
   "outputs": [
    {
     "name": "stdout",
     "output_type": "stream",
     "text": [
      "bad =  995 good =  12724\n",
      "all =  13719\n"
     ]
    }
   ],
   "source": [
    "#อ่านภาพไฟล์ภาพ\n",
    "image_paths = list(paths.list_images(\"facial_expressions-master/images/\"))\n",
    "count = 0\n",
    "count_bad = 0\n",
    "count_good = 0\n",
    "for image in image_paths:\n",
    "    img = cv2.imread(image)\n",
    "    #ทำให้ภาพเป็นสีเทา\n",
    "    gray_img = cv2.cvtColor(img,cv2.COLOR_BGR2GRAY)\n",
    "    good_data = catch_face(gray_img)\n",
    "    fm = cv2.Laplacian(gray_img, cv2.CV_64F).var()\n",
    "    if tuple(good_data) == () or fm < 3:\n",
    "        new_path = \"project240/bad_image\"\n",
    "        count_bad += 1\n",
    "    else:\n",
    "        new_path = \"project240/good_image\"\n",
    "        count_good += 1\n",
    "    cv2.imwrite(os.path.join(new_path, os.path.basename(image)), gray_img)\n",
    "    count += 1\n",
    "print(\"bad = \",count_bad, \"good = \", count_good)\n",
    "print(\"all = \", count)"
   ]
  },
  {
   "cell_type": "code",
   "execution_count": null,
   "id": "80c1f769",
   "metadata": {},
   "outputs": [],
   "source": []
  },
  {
   "cell_type": "code",
   "execution_count": null,
   "id": "cb6ac653",
   "metadata": {},
   "outputs": [],
   "source": []
  }
 ],
 "metadata": {
  "kernelspec": {
   "display_name": "Python 3 (ipykernel)",
   "language": "python",
   "name": "python3"
  },
  "language_info": {
   "codemirror_mode": {
    "name": "ipython",
    "version": 3
   },
   "file_extension": ".py",
   "mimetype": "text/x-python",
   "name": "python",
   "nbconvert_exporter": "python",
   "pygments_lexer": "ipython3",
   "version": "3.8.10"
  }
 },
 "nbformat": 4,
 "nbformat_minor": 5
}
