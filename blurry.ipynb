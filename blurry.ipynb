{
 "cells": [
  {
   "cell_type": "code",
   "execution_count": 2,
   "id": "aee6f5e2",
   "metadata": {},
   "outputs": [],
   "source": [
    "import cv2\n",
    "import argparse\n",
    "import os\n",
    "from imutils import paths"
   ]
  },
  {
   "cell_type": "code",
   "execution_count": 3,
   "id": "64a5851c",
   "metadata": {},
   "outputs": [],
   "source": [
    "image_paths = list(paths.list_images(\"facial_expressions-master/test2/\"))\n",
    "count = 1\n",
    "for image in image_paths:\n",
    "    img = cv2.imread(image)\n",
    "    #ทำให้ภาพเป็นสีเทา\n",
    "    gray_img = cv2.cvtColor(img,cv2.COLOR_BGR2GRAY)\n",
    "    fm = cv2.Laplacian(gray_img, cv2.CV_64F).var()\n",
    "    #print(fm)\n",
    "    if fm < 3:\n",
    "        #print(\"Blurry\",count)\n",
    "        new_path = \"project240/bad_image\"\n",
    "        cv2.imwrite(os.path.join(new_path, os.path.basename(image)), gray_img)\n",
    "        #print(\"bad\",count)\n",
    "    else:\n",
    "        #print(\"Not Blurry\")\n",
    "        new_path = \"project240/good_image\"\n",
    "        cv2.imwrite(os.path.join(new_path, os.path.basename(image)), gray_img)\n",
    "    count += 1"
   ]
  },
  {
   "cell_type": "code",
   "execution_count": null,
   "id": "e857f5c1",
   "metadata": {},
   "outputs": [],
   "source": []
  }
 ],
 "metadata": {
  "kernelspec": {
   "display_name": "Python 3 (ipykernel)",
   "language": "python",
   "name": "python3"
  },
  "language_info": {
   "codemirror_mode": {
    "name": "ipython",
    "version": 3
   },
   "file_extension": ".py",
   "mimetype": "text/x-python",
   "name": "python",
   "nbconvert_exporter": "python",
   "pygments_lexer": "ipython3",
   "version": "3.8.10"
  }
 },
 "nbformat": 4,
 "nbformat_minor": 5
}
