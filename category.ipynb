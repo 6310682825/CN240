{
 "cells": [
  {
   "cell_type": "code",
   "execution_count": 1,
   "id": "32e794f0",
   "metadata": {},
   "outputs": [],
   "source": [
    "import cv2\n",
    "import csv\n",
    "import os"
   ]
  },
  {
   "cell_type": "code",
   "execution_count": 2,
   "id": "23bb82fd",
   "metadata": {},
   "outputs": [
    {
     "name": "stdout",
     "output_type": "stream",
     "text": [
      "neutral =  6388 happiness =  5342 sadness =  214 anger =  240 fear =  19 other =  19\n",
      "\n"
     ]
    }
   ],
   "source": [
    "path = \"facial_expressions-master/data/legend.csv\"\n",
    "from imutils import paths\n",
    "image_paths = list(paths.list_images(\"project240/good_image\"))\n",
    "count = 0\n",
    "count_neutral = 0\n",
    "count_happiness = 0\n",
    "count_sad = 0\n",
    "count_anger = 0\n",
    "count_fear = 0\n",
    "count_other = 0\n",
    "for image in image_paths:\n",
    "    img = cv2.imread(image)\n",
    "    name_img = os.path.basename(image)\n",
    "    with open(path) as csvfile:\n",
    "        reader = csv.reader(csvfile)\n",
    "        for row in reader:\n",
    "            if row[1] == name_img:\n",
    "                if row[2].lower() == \"neutral\":\n",
    "                    new_path = \"project240/neutral\"\n",
    "                    count_neutral += 1\n",
    "                elif row[2].lower() == \"happiness\":\n",
    "                    new_path = \"project240/happiness\"\n",
    "                    count_happiness += 1\n",
    "                elif row[2].lower() == \"sadness\" or row[2].lower() == \"sad\":\n",
    "                    new_path = \"project240/sad\"\n",
    "                    count_sad += 1\n",
    "                elif row[2].lower() == \"anger\":\n",
    "                    new_path = \"project240/anger\"\n",
    "                    count_anger += 1\n",
    "                elif row[2].lower() == \"fear\":\n",
    "                    new_path = \"project240/fear\"\n",
    "                    count_fear += 1\n",
    "                else:\n",
    "                    new_path = \"project240/other\"\n",
    "                    count_other += 1\n",
    "                cv2.imwrite(os.path.join(new_path, name_img), img)\n",
    "                count += 1\n",
    "print(\"neutral = \" , count_neutral,\"happiness = \", count_happiness, \"sadness = \", count_sad, \"anger = \", count_anger, \"fear = \", count_fear,\"other = \", count_fear)\n",
    "print(\"\")"
   ]
  },
  {
   "cell_type": "code",
   "execution_count": null,
   "id": "77834523",
   "metadata": {},
   "outputs": [],
   "source": [
    "#แสดงตำแหน่งที่เจอใบหน้า x,y คือตำแหน่งที่เจอใบหน้า\n",
    "#for (x,y,w,h) in face_detect:\n",
    "#    cv2.rectangle(gray_img,(x,y),(x+w,y+h),(0,255,0),thickness=3)"
   ]
  },
  {
   "cell_type": "code",
   "execution_count": 37,
   "id": "04ebabc6",
   "metadata": {},
   "outputs": [],
   "source": [
    "#แสดงภาพ\n",
    "#cv2.imshow(\"Original\", img)\n",
    "#cv2.imshow(\"result\", gray_img)\n",
    "#cv2.waitKey(0)\n",
    "#cv2.destroyAllWindows()"
   ]
  },
  {
   "cell_type": "code",
   "execution_count": null,
   "id": "6c07b570",
   "metadata": {},
   "outputs": [],
   "source": []
  }
 ],
 "metadata": {
  "kernelspec": {
   "display_name": "Python 3 (ipykernel)",
   "language": "python",
   "name": "python3"
  },
  "language_info": {
   "codemirror_mode": {
    "name": "ipython",
    "version": 3
   },
   "file_extension": ".py",
   "mimetype": "text/x-python",
   "name": "python",
   "nbconvert_exporter": "python",
   "pygments_lexer": "ipython3",
   "version": "3.8.10"
  }
 },
 "nbformat": 4,
 "nbformat_minor": 5
}
