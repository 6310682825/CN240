{
 "cells": [
  {
   "cell_type": "code",
   "execution_count": 1,
   "id": "fcb727c6",
   "metadata": {},
   "outputs": [],
   "source": [
    "import cv2"
   ]
  },
  {
   "cell_type": "code",
   "execution_count": 144,
   "id": "476b1f35",
   "metadata": {},
   "outputs": [],
   "source": [
    "img = cv2.imread(\"facial_expressions-master/images/Carolina_Barco_0001.jpg\")"
   ]
  },
  {
   "cell_type": "code",
   "execution_count": 145,
   "id": "27aa95c3",
   "metadata": {},
   "outputs": [],
   "source": [
    "face_cascade = cv2.CascadeClassifier(\"project240/emotion_detect/haarcascade_frontalface_default.xml\")\n",
    "gray_img = cv2.cvtColor(img,cv2.COLOR_BGR2GRAY)\n",
    "scaleFactor = 1.1\n",
    "minNeigher = 3\n",
    "face_detect = face_cascade.detectMultiScale(img)"
   ]
  },
  {
   "cell_type": "code",
   "execution_count": 146,
   "id": "52744d37",
   "metadata": {},
   "outputs": [],
   "source": [
    "for (x,y,w,h) in face_detect:\n",
    "    cv2.rectangle(gray_img,(x,y),(x+w,y+h),(0,255,0),thickness=3)"
   ]
  },
  {
   "cell_type": "code",
   "execution_count": 147,
   "id": "fe8e987a",
   "metadata": {},
   "outputs": [],
   "source": [
    "cv2.imshow(\"Original\", img)\n",
    "cv2.imshow(\"result\", gray_img)\n",
    "cv2.waitKey(0)\n",
    "cv2.destroyAllWindows()"
   ]
  },
  {
   "cell_type": "code",
   "execution_count": null,
   "id": "4ecb406d",
   "metadata": {},
   "outputs": [],
   "source": []
  }
 ],
 "metadata": {
  "interpreter": {
   "hash": "68f0e175fb12fd978159f50e41259cb76c0dde7153ef01b868ddc749fc567b6d"
  },
  "kernelspec": {
   "display_name": "Python 3 (ipykernel)",
   "language": "python",
   "name": "python3"
  },
  "language_info": {
   "codemirror_mode": {
    "name": "ipython",
    "version": 3
   },
   "file_extension": ".py",
   "mimetype": "text/x-python",
   "name": "python",
   "nbconvert_exporter": "python",
   "pygments_lexer": "ipython3",
   "version": "3.8.10"
  }
 },
 "nbformat": 4,
 "nbformat_minor": 5
}
